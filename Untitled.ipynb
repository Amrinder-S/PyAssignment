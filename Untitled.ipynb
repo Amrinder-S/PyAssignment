{
 "cells": [
  {
   "cell_type": "code",
   "execution_count": 8,
   "id": "67d7ceeb",
   "metadata": {},
   "outputs": [
    {
     "name": "stdout",
     "output_type": "stream",
     "text": [
      "Enter a string: Such string is not so common to see\n",
      "such $tring i$ not $o common to $ee\n"
     ]
    }
   ],
   "source": [
    "#Question 1\n",
    "a = input(\"Enter a string: \")\n",
    "a = a.lower()\n",
    "anew = a[0]+a[1:].replace(a[0],'$')\n",
    "print(anew)"
   ]
  },
  {
   "cell_type": "code",
   "execution_count": 9,
   "id": "2a21250a",
   "metadata": {},
   "outputs": [
    {
     "name": "stdout",
     "output_type": "stream",
     "text": [
      "Enter first string: this is the first string\n",
      "Enter second string: second string goes here\n",
      "htis is the first string escond string goes here\n"
     ]
    }
   ],
   "source": [
    "#Question 2\n",
    "a = input(\"Enter first string: \")\n",
    "b = input(\"Enter second string: \")\n",
    "str = a[1]+a[0]+a[2:]+\" \"+b[1]+b[0]+b[2:]\n",
    "print(str)"
   ]
  },
  {
   "cell_type": "code",
   "execution_count": 14,
   "id": "15715e51",
   "metadata": {},
   "outputs": [
    {
     "name": "stdout",
     "output_type": "stream",
     "text": [
      "Enter a string: python\n",
      "String is neither palindrome nor symmetrical\n"
     ]
    }
   ],
   "source": [
    "#Question 3\n",
    "str = input(\"Enter a string: \")\n",
    "c = 0\n",
    "if (str==str[::-1]):\n",
    "        print(\"String is palindrome\")\n",
    "        c = c + 1\n",
    "elif(str[ :len(str)//2]==str[len(str)//2: ]):\n",
    "        print(\"String is symmetrical\")\n",
    "elif(c==0):\n",
    "        print(\"String is neither palindrome nor symmetrical\")"
   ]
  },
  {
   "cell_type": "code",
   "execution_count": 11,
   "id": "be0bca36",
   "metadata": {},
   "outputs": [
    {
     "name": "stdout",
     "output_type": "stream",
     "text": [
      "Enter the number of elements of the list: 5\n",
      "Enter the value of list\n",
      "apple\n",
      "mango\n",
      "grapes\n",
      "cherry\n",
      "banana\n",
      "['banana', 'mango', 'grapes', 'cherry', 'apple']\n"
     ]
    }
   ],
   "source": [
    "#Question 4\n",
    "list = []\n",
    "n = int(input(\"Enter the number of elements of the list: \"))\n",
    "print(\"Enter the value of list\")\n",
    "for i in range (0,n):\n",
    "        element=input()\n",
    "        list.append(element)\n",
    "temp=list[0]\n",
    "list[0]=list[-1]\n",
    "list[-1]=temp\n",
    "print(list)\n"
   ]
  },
  {
   "cell_type": "code",
   "execution_count": 12,
   "id": "486824ef",
   "metadata": {},
   "outputs": [
    {
     "name": "stdout",
     "output_type": "stream",
     "text": [
      "Enter the number of elements in the list: 5\n",
      "apple\n",
      "mango\n",
      "grapes\n",
      "cherry\n",
      "banana\n",
      "Enter the position you want to swap: 5\n",
      "Enter the position it is to be append with: 3\n",
      "['apple', 'mango', 'banana', 'cherry', 'grapes']\n"
     ]
    }
   ],
   "source": [
    "#Question 5\n",
    "list=[]\n",
    "n = int(input(\"Enter the number of elements in the list: \"))\n",
    "for i in range(0,n):\n",
    "        el=input()\n",
    "        list.append(el)\n",
    "a = int(input(\"Enter the position you want to swap: \"))\n",
    "b = int(input(\"Enter the position it is to be append with: \"))\n",
    "temp = list[a-1]\n",
    "list[a-1] = list[b-1]\n",
    "list[b-1]=temp\n",
    "print(list)"
   ]
  },
  {
   "cell_type": "code",
   "execution_count": null,
   "id": "480aa4b6",
   "metadata": {},
   "outputs": [],
   "source": []
  }
 ],
 "metadata": {
  "kernelspec": {
   "display_name": "Python 3 (ipykernel)",
   "language": "python",
   "name": "python3"
  },
  "language_info": {
   "codemirror_mode": {
    "name": "ipython",
    "version": 3
   },
   "file_extension": ".py",
   "mimetype": "text/x-python",
   "name": "python",
   "nbconvert_exporter": "python",
   "pygments_lexer": "ipython3",
   "version": "3.10.1"
  }
 },
 "nbformat": 4,
 "nbformat_minor": 5
}
